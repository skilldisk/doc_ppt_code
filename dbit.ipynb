{
 "cells": [
  {
   "cell_type": "markdown",
   "id": "painful-mistress",
   "metadata": {},
   "source": [
    "<!-- ![skill disk](./images/head.png) -->\n",
    "<img src=\"./images/head.png\" style=\"width:70vw\"/>"
   ]
  },
  {
   "cell_type": "markdown",
   "id": "convertible-saying",
   "metadata": {},
   "source": [
    "# Document, Presentation and Code Execution"
   ]
  },
  {
   "cell_type": "markdown",
   "id": "russian-newman",
   "metadata": {},
   "source": [
    "## Documentation\n",
    "\n",
    "using Markdown Syntax\n",
    "\n",
    "## Basics of Markdown Syntax"
   ]
  },
  {
   "cell_type": "markdown",
   "id": "valid-capacity",
   "metadata": {},
   "source": [
    "### Headings\n",
    "\n",
    "- Headings are represented using `#`\n",
    "- Heading ranges from H1 to H6\n",
    "- H1 starts with `#`\n",
    "- H2 with `##` ... H6 with `######`"
   ]
  },
  {
   "cell_type": "markdown",
   "id": "signal-doctrine",
   "metadata": {},
   "source": []
  },
  {
   "cell_type": "markdown",
   "id": "wooden-upset",
   "metadata": {},
   "source": [
    "---\n",
    "\n",
    "### List\n",
    "\n",
    "#### Unordered List\n",
    "\n",
    "- unordered list are represented using `-`\n",
    "- Nested list is possible by using TAB\n"
   ]
  },
  {
   "cell_type": "markdown",
   "id": "stock-subscriber",
   "metadata": {},
   "source": []
  },
  {
   "cell_type": "markdown",
   "id": "random-acrylic",
   "metadata": {},
   "source": [
    "\n",
    "#### Ordered List\n",
    "\n",
    "- unordered list are represented using `numbers`\n",
    "- Nested list is possible by using TAB"
   ]
  },
  {
   "cell_type": "markdown",
   "id": "previous-terrorism",
   "metadata": {},
   "source": []
  },
  {
   "cell_type": "markdown",
   "id": "irish-tractor",
   "metadata": {},
   "source": [
    "---\n",
    "\n",
    "### Tables\n",
    "\n",
    "Basic table representation is shown below\n",
    "\n",
    "```md\n",
    "| Sl No | Programming Lang |\n",
    "|-------|------------------|\n",
    "| 1     | Python           |\n",
    "| 2     | Go Lang          |\n",
    "| 3     | Zig              |\n",
    "| 4     | Cpp              |\n",
    "\n",
    "```\n",
    "\n",
    "*Output:* \n",
    "\n",
    "| Sl No | Programming Lang |\n",
    "|-------|:-----------------|\n",
    "| 1     | Python           |\n",
    "| 2     | Go Lang          |\n",
    "| 3     | Zig              |\n",
    "| 4     | Cpp              |"
   ]
  },
  {
   "cell_type": "markdown",
   "id": "sophisticated-lobby",
   "metadata": {},
   "source": []
  },
  {
   "cell_type": "markdown",
   "id": "annual-player",
   "metadata": {},
   "source": [
    "---\n",
    "\n",
    "### Links\n",
    "\n",
    "`[text](link)`\n",
    "\n",
    "[Skill Disk](https://skilldisk.com)\n",
    "\n",
    "[DBIT](https://dbit.co.in/)"
   ]
  },
  {
   "cell_type": "markdown",
   "id": "eligible-clark",
   "metadata": {},
   "source": []
  },
  {
   "cell_type": "markdown",
   "id": "arranged-inspector",
   "metadata": {},
   "source": [
    "---\n",
    "\n",
    "### Images\n",
    "\n",
    "`![Alt Name](image_link)`"
   ]
  },
  {
   "cell_type": "markdown",
   "id": "published-taste",
   "metadata": {},
   "source": []
  },
  {
   "cell_type": "markdown",
   "id": "external-outdoors",
   "metadata": {},
   "source": [
    "---\n",
    "\n",
    "### Code Snippets\n",
    "\n",
    "- Code snippets are written inside 3 double quotes or 3 single quotes\n",
    "\n",
    "\\``` \n",
    "\n",
    "code \n",
    "\n",
    "\\```"
   ]
  },
  {
   "cell_type": "markdown",
   "id": "smart-racing",
   "metadata": {},
   "source": []
  },
  {
   "cell_type": "markdown",
   "id": "collectible-information",
   "metadata": {},
   "source": [
    "---\n",
    "\n",
    "# Presentation using RISE\n",
    "\n",
    "- Rise library is used to convert jupyter notebook to a reveal js style presentation\n",
    "- Installing Rise inside jupyter notebook\n",
    "    - In the code block\n",
    "    - `!pip install rise`\n",
    "    - Save and reload the notebook.\n",
    "    - A new bar graph icon is added in the top icon section.\n",
    "    \n",
    "## Customizing\n",
    "\n",
    "- Check the Snippets file\n",
    "- For more info [Read the Documentation](https://rise.readthedocs.io/en/latest/index.html)\n",
    "    "
   ]
  },
  {
   "cell_type": "markdown",
   "id": "endangered-senegal",
   "metadata": {},
   "source": []
  }
 ],
 "metadata": {
  "kernelspec": {
   "display_name": "Python 3",
   "language": "python",
   "name": "python3"
  },
  "language_info": {
   "codemirror_mode": {
    "name": "ipython",
    "version": 3
   },
   "file_extension": ".py",
   "mimetype": "text/x-python",
   "name": "python",
   "nbconvert_exporter": "python",
   "pygments_lexer": "ipython3",
   "version": "3.10.11"
  }
 },
 "nbformat": 4,
 "nbformat_minor": 5
}
